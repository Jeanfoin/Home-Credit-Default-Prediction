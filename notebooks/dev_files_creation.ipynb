{
 "cells": [
  {
   "cell_type": "code",
   "execution_count": 1,
   "id": "91fd7423-2c44-4ef0-8313-fe472927b565",
   "metadata": {},
   "outputs": [],
   "source": [
    "import os\n",
    "import logging\n",
    "import pandas as pd\n",
    "import matplotlib.pyplot as plt\n",
    "from sklearn.model_selection import train_test_split"
   ]
  },
  {
   "cell_type": "code",
   "execution_count": 2,
   "id": "8fd04a71-6efb-490c-a758-709d0b6e4e2a",
   "metadata": {},
   "outputs": [],
   "source": [
    "RANDOM_STATE = 42\n",
    "TOT_MEMORY_IN = 0\n",
    "TOT_MEMORY_OUT = 0\n",
    "ori_dir = '../original_data/'\n",
    "app_dir = '../app_data/'\n",
    "add_dir = '../add_data/'\n",
    "sample_dir = '../sample_data/'\n",
    "\n",
    "directories = [app_dir, add_dir, sample_dir]\n",
    "for dir in directories:\n",
    "    if not os.path.exists(dir):\n",
    "        os.makedirs(dir, exist_ok=True)"
   ]
  },
  {
   "cell_type": "code",
   "execution_count": 3,
   "id": "f8d9ea76-fec7-44e3-bd37-27adb63fc6ee",
   "metadata": {},
   "outputs": [],
   "source": [
    "def reduce_memory_usage(df: pd.DataFrame,\n",
    "                        card_threshold=0.2):\n",
    "    \"\"\"\n",
    "    Reduces memory usage of a DataFrame by downcasting numeric columns to more efficient types.\n",
    "    Converts int64 -> int32 and float64 -> float32 where applicable.\n",
    "    \"\"\"    \n",
    "\n",
    "    columns_by_dtype = {\n",
    "    'int_columns': df.select_dtypes(include='int').columns.tolist(),\n",
    "    'float_columns': df.select_dtypes(include='float').columns.tolist(),\n",
    "    'object_columns': df.select_dtypes(include='object').columns.tolist()\n",
    "    }\n",
    "\n",
    "    for col in columns_by_dtype['int_columns']:\n",
    "        df[col] = pd.to_numeric(df[col], downcast='integer')\n",
    "    for col in columns_by_dtype['float_columns']:\n",
    "        df[col] = pd.to_numeric(df[col], downcast='float')\n",
    "    for col in columns_by_dtype['object_columns']:\n",
    "        num_unique_values = df[col].nunique()\n",
    "        num_total_values = len(df[col])\n",
    "        if num_unique_values / num_total_values < card_threshold:  \n",
    "            df[col] = df[col].astype('category')\n",
    "\n",
    "    return df"
   ]
  },
  {
   "cell_type": "code",
   "execution_count": 4,
   "id": "d753315d-903c-4a07-8178-0c70fd807d13",
   "metadata": {},
   "outputs": [],
   "source": [
    "full_application = pd.read_csv(ori_dir + 'application_train.csv')\n",
    "full_application = reduce_memory_usage(full_application)\n",
    "\n",
    "train_application, test_application = train_test_split(full_application, \n",
    "                                                       train_size=0.8,\n",
    "                                                       stratify=full_application['TARGET'],\n",
    "                                                       shuffle=True,\n",
    "                                                       random_state=RANDOM_STATE)\n",
    "\n",
    "sample_train_application, _ = train_test_split(train_application, \n",
    "                                               train_size=0.25,\n",
    "                                               stratify=train_application['TARGET'],\n",
    "                                               shuffle=True,\n",
    "                                               random_state=RANDOM_STATE)\n",
    "\n",
    "train_application.to_parquet(app_dir + 'application_train.parquet')\n",
    "test_application.to_parquet(app_dir + 'application_test.parquet')\n",
    "sample_train_application.to_parquet(sample_dir + 'sample_application.parquet')\n",
    "\n",
    "del full_application"
   ]
  },
  {
   "cell_type": "code",
   "execution_count": 5,
   "id": "afc4f269-a0da-4da0-b328-2ccd9ddc0d3f",
   "metadata": {},
   "outputs": [],
   "source": [
    "full_bureau = pd.read_csv(ori_dir + 'bureau.csv')\n",
    "full_bureau = reduce_memory_usage(full_bureau)\n",
    "\n",
    "sample_train_bureau = full_bureau[full_bureau['SK_ID_CURR'].isin(sample_train_application['SK_ID_CURR'])]\n",
    "\n",
    "full_bureau.to_parquet(add_dir + 'bureau.parquet')\n",
    "sample_train_bureau.to_parquet(sample_dir + 'sample_bureau.parquet')\n",
    "\n",
    "del full_bureau"
   ]
  },
  {
   "cell_type": "code",
   "execution_count": 6,
   "id": "e662a744-805c-4f7d-9cab-da31e48c0695",
   "metadata": {},
   "outputs": [],
   "source": [
    "full_bureau_balance = pd.read_csv(ori_dir + 'bureau_balance.csv')\n",
    "full_bureau_balance = reduce_memory_usage(full_bureau_balance)\n",
    "\n",
    "sample_train_bureau_balance = full_bureau_balance[full_bureau_balance['SK_ID_BUREAU'].isin(sample_train_bureau['SK_ID_BUREAU'])]\n",
    "\n",
    "full_bureau_balance.to_parquet(add_dir + 'bureau_balance.parquet')\n",
    "sample_train_bureau_balance.to_parquet(sample_dir + 'sample_bureau_balance.parquet')\n",
    "\n",
    "del full_bureau_balance"
   ]
  },
  {
   "cell_type": "code",
   "execution_count": 7,
   "id": "e9094ccf-355b-4b05-81ad-1556308461dd",
   "metadata": {},
   "outputs": [],
   "source": [
    "full_previous_application = pd.read_csv(ori_dir + 'previous_application.csv')\n",
    "full_previous_application = reduce_memory_usage(full_previous_application)\n",
    "\n",
    "sample_train_previous_application = (full_previous_application[full_previous_application['SK_ID_CURR']\n",
    "                                     .isin(sample_train_application['SK_ID_CURR'])])\n",
    "\n",
    "full_previous_application.to_parquet(add_dir + 'previous_application.parquet')\n",
    "sample_train_previous_application.to_parquet(sample_dir + 'sample_previous_application.parquet')\n",
    "\n",
    "\n",
    "del full_previous_application"
   ]
  },
  {
   "cell_type": "code",
   "execution_count": 8,
   "id": "20ad1669-d042-4713-b6a8-b99e471ef900",
   "metadata": {},
   "outputs": [],
   "source": [
    "full_POS_CASH_balance = pd.read_csv(ori_dir + 'POS_CASH_balance.csv')\n",
    "full_POS_CASH_balance = reduce_memory_usage(full_POS_CASH_balance)\n",
    "\n",
    "sample_train_POS_CASH_balance = (full_POS_CASH_balance[full_POS_CASH_balance['SK_ID_CURR']\n",
    "                                 .isin(sample_train_application['SK_ID_CURR'])])\n",
    "\n",
    "full_POS_CASH_balance.to_parquet(add_dir + 'POS_CASH_balance.parquet')\n",
    "sample_train_POS_CASH_balance.to_parquet(sample_dir + 'sample_POS_CASH_balance.parquet')\n",
    "\n",
    "\n",
    "del full_POS_CASH_balance"
   ]
  },
  {
   "cell_type": "code",
   "execution_count": 9,
   "id": "96e1f6b4-9301-4e40-9630-1f768a43994f",
   "metadata": {},
   "outputs": [],
   "source": [
    "full_installments_payments = pd.read_csv(ori_dir + 'installments_payments.csv')\n",
    "full_installments_payments = reduce_memory_usage(full_installments_payments)\n",
    "\n",
    "sample_train_installments_payments = (full_installments_payments[full_installments_payments['SK_ID_CURR']\n",
    "                                 .isin(sample_train_application['SK_ID_CURR'])])\n",
    "\n",
    "full_installments_payments.to_parquet(add_dir + 'installments_payments.parquet')\n",
    "#test_installments_payments.to_parquet(test_dir + 'installments_payments_test.parquet')\n",
    "sample_train_installments_payments.to_parquet(sample_dir + 'sample_installments_payments.parquet')\n",
    "\n",
    "\n",
    "del full_installments_payments"
   ]
  },
  {
   "cell_type": "code",
   "execution_count": 10,
   "id": "333d3b4f-6b13-4a89-8d4c-8d4e7b90376a",
   "metadata": {},
   "outputs": [],
   "source": [
    "full_credit_card_balance = pd.read_csv(ori_dir + 'credit_card_balance.csv')\n",
    "full_credit_card_balance = reduce_memory_usage(full_credit_card_balance)\n",
    "\n",
    "sample_train_credit_card_balance = (full_credit_card_balance[full_credit_card_balance['SK_ID_CURR']\n",
    "                                    .isin(sample_train_application['SK_ID_CURR'])])\n",
    "\n",
    "full_credit_card_balance.to_parquet(add_dir + 'credit_card_balance.parquet')\n",
    "#test_credit_card_balance.to_parquet(test_dir + 'credit_card_balance_test.parquet')\n",
    "sample_train_credit_card_balance.to_parquet(sample_dir + 'sample_credit_card_balance.parquet')\n",
    "\n",
    "del full_credit_card_balance"
   ]
  }
 ],
 "metadata": {
  "kernelspec": {
   "display_name": "capstone (env)",
   "language": "python",
   "name": "capstone"
  },
  "language_info": {
   "codemirror_mode": {
    "name": "ipython",
    "version": 3
   },
   "file_extension": ".py",
   "mimetype": "text/x-python",
   "name": "python",
   "nbconvert_exporter": "python",
   "pygments_lexer": "ipython3",
   "version": "3.8.10"
  }
 },
 "nbformat": 4,
 "nbformat_minor": 5
}
